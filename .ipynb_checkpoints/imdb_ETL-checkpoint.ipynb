{
 "cells": [
  {
   "cell_type": "code",
   "execution_count": 1,
   "id": "16143753-3239-4472-a36a-98afd5a84625",
   "metadata": {},
   "outputs": [],
   "source": [
    "import pandas as pd"
   ]
  },
  {
   "cell_type": "markdown",
   "id": "0dc08e46-666b-4076-9d18-b8936d32039b",
   "metadata": {},
   "source": [
    "<b>Step - 1: Extract and Inspect </b>"
   ]
  },
  {
   "cell_type": "code",
   "execution_count": 2,
   "id": "87f4afce-3b5a-439e-ac29-59f20fa7b7c7",
   "metadata": {},
   "outputs": [],
   "source": [
    "imdb = pd.read_csv(\"imdb_top_1000.csv\")"
   ]
  },
  {
   "cell_type": "code",
   "execution_count": 3,
   "id": "c9d7f068-77dc-470c-a071-445dca3d15e5",
   "metadata": {},
   "outputs": [
    {
     "name": "stdout",
     "output_type": "stream",
     "text": [
      "                                         Poster_Link  \\\n",
      "0  https://m.media-amazon.com/images/M/MV5BMDFkYT...   \n",
      "1  https://m.media-amazon.com/images/M/MV5BM2MyNj...   \n",
      "2  https://m.media-amazon.com/images/M/MV5BMTMxNT...   \n",
      "3  https://m.media-amazon.com/images/M/MV5BMWMwMG...   \n",
      "4  https://m.media-amazon.com/images/M/MV5BMWU4N2...   \n",
      "\n",
      "               Series_Title Released_Year Certificate  Runtime  \\\n",
      "0  The Shawshank Redemption          1994           A  142 min   \n",
      "1             The Godfather          1972           A  175 min   \n",
      "2           The Dark Knight          2008          UA  152 min   \n",
      "3    The Godfather: Part II          1974           A  202 min   \n",
      "4              12 Angry Men          1957           U   96 min   \n",
      "\n",
      "                  Genre  IMDB_Rating  \\\n",
      "0                 Drama          9.3   \n",
      "1          Crime, Drama          9.2   \n",
      "2  Action, Crime, Drama          9.0   \n",
      "3          Crime, Drama          9.0   \n",
      "4          Crime, Drama          9.0   \n",
      "\n",
      "                                            Overview  Meta_score  \\\n",
      "0  Two imprisoned men bond over a number of years...        80.0   \n",
      "1  An organized crime dynasty's aging patriarch t...       100.0   \n",
      "2  When the menace known as the Joker wreaks havo...        84.0   \n",
      "3  The early life and career of Vito Corleone in ...        90.0   \n",
      "4  A jury holdout attempts to prevent a miscarria...        96.0   \n",
      "\n",
      "               Director           Star1           Star2          Star3  \\\n",
      "0        Frank Darabont     Tim Robbins  Morgan Freeman     Bob Gunton   \n",
      "1  Francis Ford Coppola   Marlon Brando       Al Pacino     James Caan   \n",
      "2     Christopher Nolan  Christian Bale    Heath Ledger  Aaron Eckhart   \n",
      "3  Francis Ford Coppola       Al Pacino  Robert De Niro  Robert Duvall   \n",
      "4          Sidney Lumet     Henry Fonda     Lee J. Cobb  Martin Balsam   \n",
      "\n",
      "            Star4  No_of_Votes        Gross  \n",
      "0  William Sadler      2343110   28,341,469  \n",
      "1    Diane Keaton      1620367  134,966,411  \n",
      "2   Michael Caine      2303232  534,858,444  \n",
      "3    Diane Keaton      1129952   57,300,000  \n",
      "4    John Fiedler       689845    4,360,000  \n"
     ]
    }
   ],
   "source": [
    "print(imdb.head())"
   ]
  },
  {
   "cell_type": "code",
   "execution_count": 4,
   "id": "f0491c0b-0243-49a5-9a09-e272f7d1421f",
   "metadata": {},
   "outputs": [
    {
     "name": "stdout",
     "output_type": "stream",
     "text": [
      "(1000, 16)\n"
     ]
    }
   ],
   "source": [
    "print(imdb.shape)"
   ]
  },
  {
   "cell_type": "code",
   "execution_count": 5,
   "id": "c2c3c229-ac0e-4192-9791-9c7354e8ef2b",
   "metadata": {},
   "outputs": [
    {
     "name": "stdout",
     "output_type": "stream",
     "text": [
      "<class 'pandas.core.frame.DataFrame'>\n",
      "RangeIndex: 1000 entries, 0 to 999\n",
      "Data columns (total 16 columns):\n",
      " #   Column         Non-Null Count  Dtype  \n",
      "---  ------         --------------  -----  \n",
      " 0   Poster_Link    1000 non-null   object \n",
      " 1   Series_Title   1000 non-null   object \n",
      " 2   Released_Year  1000 non-null   object \n",
      " 3   Certificate    899 non-null    object \n",
      " 4   Runtime        1000 non-null   object \n",
      " 5   Genre          1000 non-null   object \n",
      " 6   IMDB_Rating    1000 non-null   float64\n",
      " 7   Overview       1000 non-null   object \n",
      " 8   Meta_score     843 non-null    float64\n",
      " 9   Director       1000 non-null   object \n",
      " 10  Star1          1000 non-null   object \n",
      " 11  Star2          1000 non-null   object \n",
      " 12  Star3          1000 non-null   object \n",
      " 13  Star4          1000 non-null   object \n",
      " 14  No_of_Votes    1000 non-null   int64  \n",
      " 15  Gross          831 non-null    object \n",
      "dtypes: float64(2), int64(1), object(13)\n",
      "memory usage: 125.1+ KB\n",
      "None\n"
     ]
    }
   ],
   "source": [
    "print(imdb.info())"
   ]
  },
  {
   "cell_type": "code",
   "execution_count": 6,
   "id": "b2015ecb-c530-4e4d-ba42-a6e5a1bc161f",
   "metadata": {},
   "outputs": [
    {
     "name": "stdout",
     "output_type": "stream",
     "text": [
      "Poster_Link        0\n",
      "Series_Title       0\n",
      "Released_Year      0\n",
      "Certificate      101\n",
      "Runtime            0\n",
      "Genre              0\n",
      "IMDB_Rating        0\n",
      "Overview           0\n",
      "Meta_score       157\n",
      "Director           0\n",
      "Star1              0\n",
      "Star2              0\n",
      "Star3              0\n",
      "Star4              0\n",
      "No_of_Votes        0\n",
      "Gross            169\n",
      "dtype: int64\n"
     ]
    }
   ],
   "source": [
    "print(imdb.isnull().sum())"
   ]
  },
  {
   "cell_type": "markdown",
   "id": "9f8f268f-9525-4c4d-99d6-06ea34e4a79b",
   "metadata": {},
   "source": [
    "<b>Step - 2: Transformation</b>"
   ]
  },
  {
   "cell_type": "code",
   "execution_count": 7,
   "id": "f2191f64-c9c9-4c46-bd47-6cff1ae51e96",
   "metadata": {},
   "outputs": [],
   "source": [
    "# drop unnecessary columns\n",
    "imdb.drop(columns=['Poster_Link','Certificate','Overview','Star1','Star2','Star3','Star4'], inplace = True)"
   ]
  },
  {
   "cell_type": "code",
   "execution_count": 8,
   "id": "d7e64830-9ef6-46e6-96b4-9874f0b1dff6",
   "metadata": {},
   "outputs": [
    {
     "name": "stdout",
     "output_type": "stream",
     "text": [
      "<class 'pandas.core.frame.DataFrame'>\n",
      "RangeIndex: 1000 entries, 0 to 999\n",
      "Data columns (total 9 columns):\n",
      " #   Column         Non-Null Count  Dtype  \n",
      "---  ------         --------------  -----  \n",
      " 0   Series_Title   1000 non-null   object \n",
      " 1   Released_Year  1000 non-null   object \n",
      " 2   Runtime        1000 non-null   object \n",
      " 3   Genre          1000 non-null   object \n",
      " 4   IMDB_Rating    1000 non-null   float64\n",
      " 5   Meta_score     843 non-null    float64\n",
      " 6   Director       1000 non-null   object \n",
      " 7   No_of_Votes    1000 non-null   int64  \n",
      " 8   Gross          831 non-null    object \n",
      "dtypes: float64(2), int64(1), object(6)\n",
      "memory usage: 70.4+ KB\n",
      "None\n"
     ]
    }
   ],
   "source": [
    "print(imdb.info())"
   ]
  },
  {
   "cell_type": "code",
   "execution_count": 9,
   "id": "18b98fbc-e452-47df-ad7a-c35f8acb39b7",
   "metadata": {},
   "outputs": [],
   "source": [
    "imdb['Runtime'] = imdb['Runtime'].str.replace('min','')"
   ]
  },
  {
   "cell_type": "code",
   "execution_count": 10,
   "id": "fdad92a6-5037-448f-997f-495a8ce7be9d",
   "metadata": {},
   "outputs": [
    {
     "name": "stdout",
     "output_type": "stream",
     "text": [
      "               Series_Title Released_Year Runtime         Genre  IMDB_Rating  \\\n",
      "0  The Shawshank Redemption          1994    142          Drama          9.3   \n",
      "1             The Godfather          1972    175   Crime, Drama          9.2   \n",
      "\n",
      "   Meta_score              Director  No_of_Votes        Gross  \n",
      "0        80.0        Frank Darabont      2343110   28,341,469  \n",
      "1       100.0  Francis Ford Coppola      1620367  134,966,411  \n"
     ]
    }
   ],
   "source": [
    "print(imdb.head(2))"
   ]
  },
  {
   "cell_type": "code",
   "execution_count": 11,
   "id": "9c3d6da5-0ffe-49a8-88fb-02424f2a9619",
   "metadata": {},
   "outputs": [],
   "source": [
    "imdb['Runtime'] = imdb['Runtime'].astype(int)"
   ]
  },
  {
   "cell_type": "code",
   "execution_count": 12,
   "id": "217848be-714e-40b8-9723-51f4207ba47f",
   "metadata": {},
   "outputs": [
    {
     "name": "stdout",
     "output_type": "stream",
     "text": [
      "<class 'pandas.core.frame.DataFrame'>\n",
      "RangeIndex: 1000 entries, 0 to 999\n",
      "Data columns (total 9 columns):\n",
      " #   Column         Non-Null Count  Dtype  \n",
      "---  ------         --------------  -----  \n",
      " 0   Series_Title   1000 non-null   object \n",
      " 1   Released_Year  1000 non-null   object \n",
      " 2   Runtime        1000 non-null   int64  \n",
      " 3   Genre          1000 non-null   object \n",
      " 4   IMDB_Rating    1000 non-null   float64\n",
      " 5   Meta_score     843 non-null    float64\n",
      " 6   Director       1000 non-null   object \n",
      " 7   No_of_Votes    1000 non-null   int64  \n",
      " 8   Gross          831 non-null    object \n",
      "dtypes: float64(2), int64(2), object(5)\n",
      "memory usage: 70.4+ KB\n",
      "None\n"
     ]
    }
   ],
   "source": [
    "print(imdb.info())"
   ]
  },
  {
   "cell_type": "code",
   "execution_count": 13,
   "id": "2906c9f4-5f61-43c9-8018-1faad83f95dc",
   "metadata": {},
   "outputs": [],
   "source": [
    "imdb['Gross'] = imdb['Gross'].str.replace(',','',regex=False)"
   ]
  },
  {
   "cell_type": "code",
   "execution_count": 14,
   "id": "08a3053a-740a-4e42-97b6-9bffa7428758",
   "metadata": {},
   "outputs": [
    {
     "name": "stdout",
     "output_type": "stream",
     "text": [
      "               Series_Title Released_Year  Runtime         Genre  IMDB_Rating  \\\n",
      "0  The Shawshank Redemption          1994      142         Drama          9.3   \n",
      "1             The Godfather          1972      175  Crime, Drama          9.2   \n",
      "\n",
      "   Meta_score              Director  No_of_Votes      Gross  \n",
      "0        80.0        Frank Darabont      2343110   28341469  \n",
      "1       100.0  Francis Ford Coppola      1620367  134966411  \n"
     ]
    }
   ],
   "source": [
    "print(imdb.head(2))"
   ]
  },
  {
   "cell_type": "code",
   "execution_count": 15,
   "id": "3dece2e6-f323-440e-8c2d-053ebffe02f3",
   "metadata": {},
   "outputs": [],
   "source": [
    "imdb['Gross'] = pd.to_numeric(imdb['Gross'], errors = 'coerce')"
   ]
  },
  {
   "cell_type": "code",
   "execution_count": 16,
   "id": "218f1266-3de2-458b-a64d-f76772c4e550",
   "metadata": {},
   "outputs": [
    {
     "name": "stdout",
     "output_type": "stream",
     "text": [
      "<class 'pandas.core.frame.DataFrame'>\n",
      "RangeIndex: 1000 entries, 0 to 999\n",
      "Data columns (total 9 columns):\n",
      " #   Column         Non-Null Count  Dtype  \n",
      "---  ------         --------------  -----  \n",
      " 0   Series_Title   1000 non-null   object \n",
      " 1   Released_Year  1000 non-null   object \n",
      " 2   Runtime        1000 non-null   int64  \n",
      " 3   Genre          1000 non-null   object \n",
      " 4   IMDB_Rating    1000 non-null   float64\n",
      " 5   Meta_score     843 non-null    float64\n",
      " 6   Director       1000 non-null   object \n",
      " 7   No_of_Votes    1000 non-null   int64  \n",
      " 8   Gross          831 non-null    float64\n",
      "dtypes: float64(3), int64(2), object(4)\n",
      "memory usage: 70.4+ KB\n",
      "None\n"
     ]
    }
   ],
   "source": [
    "print(imdb.info())"
   ]
  },
  {
   "cell_type": "code",
   "execution_count": 17,
   "id": "3ff2d683-3790-49cd-8732-c1acc7e61606",
   "metadata": {},
   "outputs": [
    {
     "name": "stdout",
     "output_type": "stream",
     "text": [
      "23530892.0\n"
     ]
    }
   ],
   "source": [
    "gross_median = imdb['Gross'].median()\n",
    "print(gross_median)"
   ]
  },
  {
   "cell_type": "code",
   "execution_count": 18,
   "id": "70d335d4-8cc7-49bd-92be-864cf59310f9",
   "metadata": {},
   "outputs": [],
   "source": [
    "imdb['Gross'] = imdb['Gross'].fillna(gross_median)"
   ]
  },
  {
   "cell_type": "code",
   "execution_count": 19,
   "id": "74ee8393-d4ab-42ba-9111-01f8d8ad2809",
   "metadata": {},
   "outputs": [
    {
     "name": "stdout",
     "output_type": "stream",
     "text": [
      "Series_Title       0\n",
      "Released_Year      0\n",
      "Runtime            0\n",
      "Genre              0\n",
      "IMDB_Rating        0\n",
      "Meta_score       157\n",
      "Director           0\n",
      "No_of_Votes        0\n",
      "Gross              0\n",
      "dtype: int64\n"
     ]
    }
   ],
   "source": [
    "print(imdb.isnull().sum())"
   ]
  },
  {
   "cell_type": "code",
   "execution_count": 20,
   "id": "fafc0443-1690-4781-bb89-b746ea8768ed",
   "metadata": {},
   "outputs": [],
   "source": [
    "imdb['Gross'] = imdb['Gross'].astype(int)"
   ]
  },
  {
   "cell_type": "code",
   "execution_count": 21,
   "id": "d6b08c2e-b04f-435b-a439-f8f33facd2f2",
   "metadata": {},
   "outputs": [
    {
     "name": "stdout",
     "output_type": "stream",
     "text": [
      "<class 'pandas.core.frame.DataFrame'>\n",
      "RangeIndex: 1000 entries, 0 to 999\n",
      "Data columns (total 9 columns):\n",
      " #   Column         Non-Null Count  Dtype  \n",
      "---  ------         --------------  -----  \n",
      " 0   Series_Title   1000 non-null   object \n",
      " 1   Released_Year  1000 non-null   object \n",
      " 2   Runtime        1000 non-null   int64  \n",
      " 3   Genre          1000 non-null   object \n",
      " 4   IMDB_Rating    1000 non-null   float64\n",
      " 5   Meta_score     843 non-null    float64\n",
      " 6   Director       1000 non-null   object \n",
      " 7   No_of_Votes    1000 non-null   int64  \n",
      " 8   Gross          1000 non-null   int64  \n",
      "dtypes: float64(2), int64(3), object(4)\n",
      "memory usage: 70.4+ KB\n",
      "None\n"
     ]
    }
   ],
   "source": [
    "print(imdb.info())"
   ]
  },
  {
   "cell_type": "code",
   "execution_count": 22,
   "id": "19e5bf1b-ada9-45b0-8a7f-89e256ebac3c",
   "metadata": {},
   "outputs": [
    {
     "name": "stdout",
     "output_type": "stream",
     "text": [
      "77.97153024911032\n"
     ]
    }
   ],
   "source": [
    "meta_mean = imdb['Meta_score'].mean()\n",
    "print(meta_mean)"
   ]
  },
  {
   "cell_type": "code",
   "execution_count": 23,
   "id": "63693e8c-7bf0-44ca-a462-d485eb6a1201",
   "metadata": {},
   "outputs": [],
   "source": [
    "imdb['Meta_score'] = imdb['Meta_score'].fillna(meta_mean)"
   ]
  },
  {
   "cell_type": "code",
   "execution_count": 24,
   "id": "588c9087-eded-4df7-a4ae-e47ce32fdfbc",
   "metadata": {},
   "outputs": [
    {
     "name": "stdout",
     "output_type": "stream",
     "text": [
      "<class 'pandas.core.frame.DataFrame'>\n",
      "RangeIndex: 1000 entries, 0 to 999\n",
      "Data columns (total 9 columns):\n",
      " #   Column         Non-Null Count  Dtype  \n",
      "---  ------         --------------  -----  \n",
      " 0   Series_Title   1000 non-null   object \n",
      " 1   Released_Year  1000 non-null   object \n",
      " 2   Runtime        1000 non-null   int64  \n",
      " 3   Genre          1000 non-null   object \n",
      " 4   IMDB_Rating    1000 non-null   float64\n",
      " 5   Meta_score     1000 non-null   float64\n",
      " 6   Director       1000 non-null   object \n",
      " 7   No_of_Votes    1000 non-null   int64  \n",
      " 8   Gross          1000 non-null   int64  \n",
      "dtypes: float64(2), int64(3), object(4)\n",
      "memory usage: 70.4+ KB\n",
      "None\n"
     ]
    }
   ],
   "source": [
    "print(imdb.info())"
   ]
  },
  {
   "cell_type": "code",
   "execution_count": 25,
   "id": "95f7a8f9-c0ca-4d9e-98fa-94d3b4b03d8a",
   "metadata": {},
   "outputs": [],
   "source": [
    "imdb['Released_Year'] = pd.to_numeric(imdb['Released_Year'],errors='coerce')"
   ]
  },
  {
   "cell_type": "code",
   "execution_count": 26,
   "id": "8b167a8d-f633-4e8b-abae-a92cf708ec98",
   "metadata": {},
   "outputs": [
    {
     "name": "stdout",
     "output_type": "stream",
     "text": [
      "float64\n"
     ]
    }
   ],
   "source": [
    "print(imdb['Released_Year'].dtype)"
   ]
  },
  {
   "cell_type": "code",
   "execution_count": 27,
   "id": "c70874f3-4d25-418e-93ca-e9eb05a743ff",
   "metadata": {},
   "outputs": [
    {
     "name": "stdout",
     "output_type": "stream",
     "text": [
      "Series_Title     0\n",
      "Released_Year    1\n",
      "Runtime          0\n",
      "Genre            0\n",
      "IMDB_Rating      0\n",
      "Meta_score       0\n",
      "Director         0\n",
      "No_of_Votes      0\n",
      "Gross            0\n",
      "dtype: int64\n"
     ]
    }
   ],
   "source": [
    "print(imdb.isnull().sum())"
   ]
  },
  {
   "cell_type": "code",
   "execution_count": 28,
   "id": "a68f3aa1-c337-43f5-ba28-5a7ba7ead0b4",
   "metadata": {},
   "outputs": [],
   "source": [
    "imdb_dropped = imdb.dropna()"
   ]
  },
  {
   "cell_type": "code",
   "execution_count": 34,
   "id": "f732c0a9-c3a0-4e59-8bad-84dbbd409ab8",
   "metadata": {},
   "outputs": [
    {
     "name": "stdout",
     "output_type": "stream",
     "text": [
      "<class 'pandas.core.frame.DataFrame'>\n",
      "Index: 999 entries, 0 to 999\n",
      "Data columns (total 9 columns):\n",
      " #   Column         Non-Null Count  Dtype  \n",
      "---  ------         --------------  -----  \n",
      " 0   Series_Title   999 non-null    object \n",
      " 1   Released_Year  999 non-null    float64\n",
      " 2   Runtime        999 non-null    int64  \n",
      " 3   Genre          999 non-null    object \n",
      " 4   IMDB_Rating    999 non-null    float64\n",
      " 5   Meta_score     999 non-null    float64\n",
      " 6   Director       999 non-null    object \n",
      " 7   No_of_Votes    999 non-null    int64  \n",
      " 8   Gross          999 non-null    int64  \n",
      "dtypes: float64(3), int64(3), object(3)\n",
      "memory usage: 78.0+ KB\n",
      "None\n"
     ]
    }
   ],
   "source": [
    "print(imdb_dropped.info())"
   ]
  },
  {
   "cell_type": "markdown",
   "id": "02f1f2ad-16fc-4756-9489-fdaf304b41cd",
   "metadata": {},
   "source": [
    "<b>Step - 3: Analysis and Visualization</b>"
   ]
  },
  {
   "cell_type": "code",
   "execution_count": 35,
   "id": "13a51d0f-2491-4ac0-88c3-9ebc01e1a0ca",
   "metadata": {},
   "outputs": [],
   "source": [
    "import matplotlib.pyplot as plt"
   ]
  },
  {
   "cell_type": "code",
   "execution_count": 36,
   "id": "4b5ce1aa-8e33-47ee-82e4-7550f651726e",
   "metadata": {},
   "outputs": [
    {
     "name": "stdout",
     "output_type": "stream",
     "text": [
      "\n",
      "---- Question 1: Top 10 Highest-Rated Directors -----\n",
      "Director\n",
      "Aamir Khan             8.40\n",
      "Aaron Sorkin           7.80\n",
      "Abdellatif Kechiche    7.70\n",
      "Abhishek Chaubey       7.80\n",
      "Abhishek Kapoor        7.70\n",
      "                       ... \n",
      "Zack Snyder            7.60\n",
      "Zaza Urushadze         8.20\n",
      "Zoya Akhtar            8.05\n",
      "Çagan Irmak            8.30\n",
      "Ömer Faruk Sorak       8.00\n",
      "Name: IMDB_Rating, Length: 548, dtype: float64\n"
     ]
    }
   ],
   "source": [
    "print(\"\\n---- Question 1: Top 10 Highest-Rated Directors -----\")\n",
    "\n",
    "top_directors = imdb_dropped.groupby('Director')['IMDB_Rating'].mean()\n",
    "print(top_directors)"
   ]
  },
  {
   "cell_type": "code",
   "execution_count": 37,
   "id": "37db6f42-ce3e-43c7-89b5-7674fdc41b82",
   "metadata": {},
   "outputs": [
    {
     "name": "stdout",
     "output_type": "stream",
     "text": [
      "Director\n",
      "Frank Darabont        8.95\n",
      "Lana Wachowski        8.70\n",
      "Irvin Kershner        8.70\n",
      "Masaki Kobayashi      8.60\n",
      "Fernando Meirelles    8.60\n",
      "                      ... \n",
      "Tom Tykwer            7.60\n",
      "Bennett Miller        7.60\n",
      "Blake Edwards         7.60\n",
      "Aneesh Chaganty       7.60\n",
      "Walter Hill           7.60\n",
      "Name: IMDB_Rating, Length: 548, dtype: float64\n"
     ]
    }
   ],
   "source": [
    "top_directors = top_directors.sort_values(ascending=False)\n",
    "print(top_directors)"
   ]
  },
  {
   "cell_type": "code",
   "execution_count": 38,
   "id": "80347cf8-c06f-4644-b5ae-aaf03d349abd",
   "metadata": {},
   "outputs": [
    {
     "name": "stdout",
     "output_type": "stream",
     "text": [
      "Director\n",
      "Frank Darabont        8.95\n",
      "Lana Wachowski        8.70\n",
      "Irvin Kershner        8.70\n",
      "Masaki Kobayashi      8.60\n",
      "Fernando Meirelles    8.60\n",
      "George Lucas          8.60\n",
      "Sudha Kongara         8.60\n",
      "Thomas Kail           8.60\n",
      "Roberto Benigni       8.60\n",
      "Milos Forman          8.50\n",
      "Name: IMDB_Rating, dtype: float64\n"
     ]
    }
   ],
   "source": [
    "print(top_directors.head(10))"
   ]
  },
  {
   "cell_type": "code",
   "execution_count": 41,
   "id": "e80d573a-4154-46a5-a17a-d5b8526b0f25",
   "metadata": {},
   "outputs": [
    {
     "data": {
      "image/png": "[encoded data removed]",
      "text/plain": [
       "<Figure size 1000x600 with 1 Axes>"
      ]
     },
     "metadata": {},
     "output_type": "display_data"
    }
   ],
   "source": [
    "top_directors.head(10).plot(\n",
    "    kind = 'bar',\n",
    "    title = 'Top 10 Highest-Rated Directors',\n",
    "    xlabel = 'Director',\n",
    "    ylabel = 'Average IMDB Rating',\n",
    "    figsize = (10,6)\n",
    ")\n",
    "plt.xticks(rotation = 45, ha = 'right')\n",
    "plt.tight_layout()\n",
    "plt.savefig('top_10_directors.png')\n",
    "plt.show()"
   ]
  },
  {
   "cell_type": "code",
   "execution_count": 43,
   "id": "50d50d69-6659-4572-aacd-76372edc29d1",
   "metadata": {},
   "outputs": [
    {
     "name": "stdout",
     "output_type": "stream",
     "text": [
      "\n",
      "--- Question 2: Most Profitable Genres ---\n",
      "Genre\n",
      "Action, Adventure               2.295072e+08\n",
      "Action, Adventure, Biography    2.353089e+07\n",
      "Action, Adventure, Comedy       1.943945e+08\n",
      "Action, Adventure, Crime        2.353089e+07\n",
      "Action, Adventure, Drama        1.939927e+08\n",
      "                                    ...     \n",
      "Mystery, Romance, Thriller      3.200000e+06\n",
      "Mystery, Sci-Fi, Thriller       3.575990e+07\n",
      "Mystery, Thriller               2.998097e+07\n",
      "Thriller                        1.755074e+07\n",
      "Western                         1.455538e+07\n",
      "Name: Gross, Length: 202, dtype: float64\n"
     ]
    }
   ],
   "source": [
    "print(\"\\n--- Question 2: Most Profitable Genres ---\")\n",
    "\n",
    "profitable_genres = imdb_dropped.groupby('Genre')['Gross'].mean()\n",
    "print(profitable_genres)"
   ]
  },
  {
   "cell_type": "code",
   "execution_count": 46,
   "id": "fb20f797-8e7d-4358-b80e-844a27621852",
   "metadata": {},
   "outputs": [
    {
     "name": "stdout",
     "output_type": "stream",
     "text": [
      "Genre\n",
      "Family, Sci-Fi                4.351106e+08\n",
      "Action, Adventure, Fantasy    3.527235e+08\n",
      "Action, Adventure, Family     3.019592e+08\n",
      "Action, Adventure, Sci-Fi     2.808885e+08\n",
      "Adventure, Fantasy            2.806852e+08\n",
      "                                  ...     \n",
      "Animation, Sci-Fi             1.938170e+05\n",
      "Comedy, Music                 1.887510e+05\n",
      "Animation, Action, Fantasy    1.510860e+05\n",
      "Adventure, Drama, Musical     7.014700e+04\n",
      "Action, Crime, Comedy         3.296000e+03\n",
      "Name: Gross, Length: 202, dtype: float64\n"
     ]
    }
   ],
   "source": [
    "profitable_genres = profitable_genres.sort_values(ascending = False)\n",
    "print(profitable_genres)"
   ]
  },
  {
   "cell_type": "code",
   "execution_count": 47,
   "id": "1e16ea3e-2131-4f86-9486-bb20a02de511",
   "metadata": {},
   "outputs": [
    {
     "name": "stdout",
     "output_type": "stream",
     "text": [
      "Genre\n",
      "Family, Sci-Fi                4.351106e+08\n",
      "Action, Adventure, Fantasy    3.527235e+08\n",
      "Action, Adventure, Family     3.019592e+08\n",
      "Action, Adventure, Sci-Fi     2.808885e+08\n",
      "Adventure, Fantasy            2.806852e+08\n",
      "Adventure, Thriller           2.600000e+08\n",
      "Animation, Comedy, Crime      2.515140e+08\n",
      "Action, Adventure             2.295072e+08\n",
      "Action, Adventure, Mystery    2.090287e+08\n",
      "Action, Adventure, Comedy     1.943945e+08\n",
      "Name: Gross, dtype: float64\n"
     ]
    }
   ],
   "source": [
    "print(profitable_genres.head(10))"
   ]
  },
  {
   "cell_type": "code",
   "execution_count": 48,
   "id": "9df20026-91da-4783-b2bf-9c881ed90306",
   "metadata": {},
   "outputs": [
    {
     "data": {
      "image/png": "[encoded data removed]",
      "text/plain": [
       "<Figure size 1000x600 with 1 Axes>"
      ]
     },
     "metadata": {},
     "output_type": "display_data"
    }
   ],
   "source": [
    "profitable_genres.head(10).plot(\n",
    "    kind = 'bar',\n",
    "    title = 'Top 10 Most Profitable Genres',\n",
    "    xlabel = 'Genre',\n",
    "    ylabel = 'Average Gross Revenue (in hundres millions)',\n",
    "    figsize = (10,6)\n",
    ")\n",
    "plt.xticks(rotation = 45, ha = 'right')\n",
    "plt.tight_layout()\n",
    "plt.savefig('top_10_genres_by_revenue.png')\n",
    "plt.show()"
   ]
  },
  {
   "cell_type": "code",
   "execution_count": 53,
   "id": "d1d46ba5-5cc0-441b-9014-c8b08fa2a16f",
   "metadata": {},
   "outputs": [
    {
     "name": "stdout",
     "output_type": "stream",
     "text": [
      "\n",
      "--- Question 3: Movie Runtime Trends Over Decades ---\n",
      "               Series_Title  Released_Year  Runtime                 Genre  \\\n",
      "0  The Shawshank Redemption         1994.0      142                 Drama   \n",
      "1             The Godfather         1972.0      175          Crime, Drama   \n",
      "2           The Dark Knight         2008.0      152  Action, Crime, Drama   \n",
      "\n",
      "   IMDB_Rating  Meta_score              Director  No_of_Votes      Gross  \\\n",
      "0          9.3        80.0        Frank Darabont      2343110   28341469   \n",
      "1          9.2       100.0  Francis Ford Coppola      1620367  134966411   \n",
      "2          9.0        84.0     Christopher Nolan      2303232  534858444   \n",
      "\n",
      "   Decade  \n",
      "0  1990.0  \n",
      "1  1970.0  \n",
      "2  2000.0  \n"
     ]
    }
   ],
   "source": [
    "print(\"\\n--- Question 3: Movie Runtime Trends Over Decades ---\")\n",
    "imdb_dropped = imdb_dropped.copy()\n",
    "imdb_dropped['Decade'] = (imdb_dropped['Released_Year']//10)*10\n",
    "print(imdb_dropped.head(3))"
   ]
  },
  {
   "cell_type": "code",
   "execution_count": 55,
   "id": "ffd53dcb-5123-4c1e-8120-17af9df9fc5e",
   "metadata": {},
   "outputs": [
    {
     "name": "stdout",
     "output_type": "stream",
     "text": [
      "Decade\n",
      "1920.0     86.272727\n",
      "1930.0    102.125000\n",
      "1940.0    109.800000\n",
      "1950.0    118.678571\n",
      "1960.0    126.452055\n",
      "1970.0    122.736842\n",
      "1980.0    121.224719\n",
      "1990.0    123.613333\n",
      "2000.0    123.607595\n",
      "2010.0    127.756198\n",
      "2020.0    126.666667\n",
      "Name: Runtime, dtype: float64\n"
     ]
    }
   ],
   "source": [
    "runtime_by_decade = imdb_dropped.groupby('Decade')['Runtime'].mean()\n",
    "print(runtime_by_decade)"
   ]
  },
  {
   "cell_type": "code",
   "execution_count": 57,
   "id": "189a2816-7d25-4292-b7f2-fc42a610b206",
   "metadata": {},
   "outputs": [
    {
     "data": {
      "image/png": "[encoded data removed]",
      "text/plain": [
       "<Figure size 640x480 with 1 Axes>"
      ]
     },
     "metadata": {},
     "output_type": "display_data"
    }
   ],
   "source": [
    "runtime_by_decade.plot(\n",
    "    kind = 'line',\n",
    "    title = 'Average Movie Runtime by decade',\n",
    "    xlabel='Decade',\n",
    "    ylabel='Average Runtime (in minutes)',\n",
    "    marker='o'\n",
    ")\n",
    "plt.grid(True)\n",
    "plt.tight_layout()\n",
    "plt.savefig('runtime_by_decade.png')\n",
    "plt.show()"
   ]
  },
  {
   "cell_type": "code",
   "execution_count": 58,
   "id": "34916e72-53e2-4cbf-a8f4-2689e7b03745",
   "metadata": {},
   "outputs": [
    {
     "name": "stdout",
     "output_type": "stream",
     "text": [
      "\n",
      "--- Question 4: Relationship between IMDB Rating and Gross Revenue ---\n"
     ]
    },
    {
     "data": {
      "image/png": "[encoded data removed]",
      "text/plain": [
       "<Figure size 640x480 with 1 Axes>"
      ]
     },
     "metadata": {},
     "output_type": "display_data"
    }
   ],
   "source": [
    "print(\"\\n--- Question 4: Relationship between IMDB Rating and Gross Revenue ---\")\n",
    "\n",
    "imdb_dropped.plot(\n",
    "    kind = 'scatter',\n",
    "    x = 'IMDB_Rating',\n",
    "    y = 'Gross',\n",
    "    title = 'IMDB Rating vs. Gross Revenue',\n",
    "    alpha = 0.5\n",
    ")\n",
    "plt.grid(True)\n",
    "plt.tight_layout()\n",
    "plt.savefig('rating_vs_gross.png')\n",
    "plt.show()"
   ]
  },
  {
   "cell_type": "code",
   "execution_count": 59,
   "id": "c6d902a9-c025-4f08-a583-026f4551e58a",
   "metadata": {},
   "outputs": [
    {
     "name": "stdout",
     "output_type": "stream",
     "text": [
      "\n",
      "ETL and Analysis Complete! Cleaned data saved to 'cleaned_imdb_data.csv'.\n"
     ]
    }
   ],
   "source": [
    "imdb_dropped.to_csv('cleaned_imdb_data.csv', index = False)\n",
    "print(\"\\nETL and Analysis Complete! Cleaned data saved to 'cleaned_imdb_data.csv'.\")"
   ]
  },
  {
   "cell_type": "code",
   "execution_count": null,
   "id": "dd706a9a-947d-42c7-bd29-e7289415ef6a",
   "metadata": {},
   "outputs": [],
   "source": []
  }
 ],
 "metadata": {
  "kernelspec": {
   "display_name": "Python 3 (ipykernel)",
   "language": "python",
   "name": "python3"
  },
  "language_info": {
   "codemirror_mode": {
    "name": "ipython",
    "version": 3
   },
   "file_extension": ".py",
   "mimetype": "text/x-python",
   "name": "python",
   "nbconvert_exporter": "python",
   "pygments_lexer": "ipython3",
   "version": "3.11.9"
  }
 },
 "nbformat": 4,
 "nbformat_minor": 5
}
